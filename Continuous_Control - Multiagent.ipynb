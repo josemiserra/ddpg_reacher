{
 "cells": [
  {
   "cell_type": "markdown",
   "metadata": {},
   "source": [
    "# Continuous Control\n",
    "\n",
    "---\n",
    "\n",
    "In this notebook, you will learn how to use the Unity ML-Agents environment for the second project of the [Deep Reinforcement Learning Nanodegree](https://www.udacity.com/course/deep-reinforcement-learning-nanodegree--nd893) program.\n",
    "\n",
    "### 1. Start the Environment\n",
    "\n",
    "We begin by importing the necessary packages.  If the code cell below returns an error, please revisit the project instructions to double-check that you have installed [Unity ML-Agents](https://github.com/Unity-Technologies/ml-agents/blob/master/docs/Installation.md) and [NumPy](http://www.numpy.org/)."
   ]
  },
  {
   "cell_type": "code",
   "execution_count": 1,
   "metadata": {},
   "outputs": [
    {
     "data": {
      "text/plain": [
       "True"
      ]
     },
     "execution_count": 1,
     "metadata": {},
     "output_type": "execute_result"
    }
   ],
   "source": [
    "from unityagents import UnityEnvironment\n",
    "import numpy as np\n",
    "import torch\n",
    "from collections import deque\n",
    "import matplotlib.pyplot as plt\n",
    "%matplotlib inline\n",
    "torch.cuda.is_available()"
   ]
  },
  {
   "cell_type": "markdown",
   "metadata": {},
   "source": [
    "Next, we will start the environment!  **_Before running the code cell below_**, change the `file_name` parameter to match the location of the Unity environment that you downloaded.\n",
    "\n",
    "- **Mac**: `\"path/to/Reacher.app\"`\n",
    "- **Windows** (x86): `\"path/to/Reacher_Windows_x86/Reacher.exe\"`\n",
    "- **Windows** (x86_64): `\"path/to/Reacher_Windows_x86_64/Reacher.exe\"`\n",
    "- **Linux** (x86): `\"path/to/Reacher_Linux/Reacher.x86\"`\n",
    "- **Linux** (x86_64): `\"path/to/Reacher_Linux/Reacher.x86_64\"`\n",
    "- **Linux** (x86, headless): `\"path/to/Reacher_Linux_NoVis/Reacher.x86\"`\n",
    "- **Linux** (x86_64, headless): `\"path/to/Reacher_Linux_NoVis/Reacher.x86_64\"`\n",
    "\n",
    "For instance, if you are using a Mac, then you downloaded `Reacher.app`.  If this file is in the same folder as the notebook, then the line below should appear as follows:\n",
    "```\n",
    "env = UnityEnvironment(file_name=\"Reacher.app\")\n",
    "```"
   ]
  },
  {
   "cell_type": "code",
   "execution_count": 2,
   "metadata": {},
   "outputs": [
    {
     "name": "stderr",
     "output_type": "stream",
     "text": [
      "INFO:unityagents:\n",
      "'Academy' started successfully!\n",
      "Unity Academy name: Academy\n",
      "        Number of Brains: 1\n",
      "        Number of External Brains : 1\n",
      "        Lesson number : 0\n",
      "        Reset Parameters :\n",
      "\t\tgoal_speed -> 1.0\n",
      "\t\tgoal_size -> 5.0\n",
      "Unity brain name: ReacherBrain\n",
      "        Number of Visual Observations (per agent): 0\n",
      "        Vector Observation space type: continuous\n",
      "        Vector Observation space size (per agent): 33\n",
      "        Number of stacked Vector Observation: 1\n",
      "        Vector Action space type: continuous\n",
      "        Vector Action space size (per agent): 4\n",
      "        Vector Action descriptions: , , , \n"
     ]
    }
   ],
   "source": [
    "env = UnityEnvironment(file_name='Reacher.exe')"
   ]
  },
  {
   "cell_type": "markdown",
   "metadata": {},
   "source": [
    "Environments contain **_brains_** which are responsible for deciding the actions of their associated agents. Here we check for the first brain available, and set it as the default brain we will be controlling from Python."
   ]
  },
  {
   "cell_type": "code",
   "execution_count": 3,
   "metadata": {},
   "outputs": [],
   "source": [
    "# get the default brain\n",
    "brain_name = env.brain_names[0]\n",
    "brain = env.brains[brain_name]"
   ]
  },
  {
   "cell_type": "markdown",
   "metadata": {},
   "source": [
    "### 2. Examine the State and Action Spaces\n",
    "\n",
    "In this environment, a double-jointed arm can move to target locations. A reward of `+0.1` is provided for each step that the agent's hand is in the goal location. Thus, the goal of your agent is to maintain its position at the target location for as many time steps as possible.\n",
    "\n",
    "The observation space consists of `33` variables corresponding to position, rotation, velocity, and angular velocities of the arm.  Each action is a vector with four numbers, corresponding to torque applicable to two joints.  Every entry in the action vector must be a number between `-1` and `1`.\n",
    "\n",
    "Run the code cell below to print some information about the environment."
   ]
  },
  {
   "cell_type": "code",
   "execution_count": 4,
   "metadata": {},
   "outputs": [
    {
     "name": "stdout",
     "output_type": "stream",
     "text": [
      "Number of agents: 20\n",
      "Size of each action: 4\n",
      "There are 20 agents. Each observes a state with length: 33\n",
      "The state for the first agent looks like: [ 0.00000000e+00 -4.00000000e+00  0.00000000e+00  1.00000000e+00\n",
      " -0.00000000e+00 -0.00000000e+00 -4.37113883e-08  0.00000000e+00\n",
      "  0.00000000e+00  0.00000000e+00  0.00000000e+00  0.00000000e+00\n",
      "  0.00000000e+00  0.00000000e+00 -1.00000000e+01  0.00000000e+00\n",
      "  1.00000000e+00 -0.00000000e+00 -0.00000000e+00 -4.37113883e-08\n",
      "  0.00000000e+00  0.00000000e+00  0.00000000e+00  0.00000000e+00\n",
      "  0.00000000e+00  0.00000000e+00  5.75471878e+00 -1.00000000e+00\n",
      "  5.55726624e+00  0.00000000e+00  1.00000000e+00  0.00000000e+00\n",
      " -1.68164849e-01]\n"
     ]
    }
   ],
   "source": [
    "# reset the environment\n",
    "env_info = env.reset(train_mode=True)[brain_name]\n",
    "\n",
    "# number of agents\n",
    "num_agents = len(env_info.agents)\n",
    "print('Number of agents:', num_agents)\n",
    "\n",
    "# size of each action\n",
    "action_size = brain.vector_action_space_size\n",
    "print('Size of each action:', action_size)\n",
    "\n",
    "# examine the state space \n",
    "states = env_info.vector_observations\n",
    "state_size = states.shape[1]\n",
    "print('There are {} agents. Each observes a state with length: {}'.format(states.shape[0], state_size))\n",
    "print('The state for the first agent looks like:', states[0])"
   ]
  },
  {
   "cell_type": "markdown",
   "metadata": {},
   "source": [
    "### 3. Take Random Actions in the Environment\n",
    "\n",
    "In the next code cell, you will learn how to use the Python API to control the agent and receive feedback from the environment.\n",
    "\n",
    "Once this cell is executed, you will watch the agent's performance, if it selects an action at random with each time step.  A window should pop up that allows you to observe the agent, as it moves through the environment.  \n",
    "\n",
    "Of course, as part of the project, you'll have to change the code so that the agent is able to use its experience to gradually choose better actions when interacting with the environment!"
   ]
  },
  {
   "cell_type": "raw",
   "metadata": {},
   "source": [
    "env_info = env.reset(train_mode=False)[brain_name]     # reset the environment    \n",
    "states = env_info.vector_observations                  # get the current state (for each agent)\n",
    "scores = np.zeros(num_agents)                          # initialize the score (for each agent)\n",
    "while True:\n",
    "    actions = np.random.randn(num_agents, action_size) # select an action (for each agent)\n",
    "    actions = np.clip(actions, -1, 1)                  # all actions between -1 and 1\n",
    "    env_info = env.step(actions)[brain_name]           # send all actions to tne environment\n",
    "    next_states = env_info.vector_observations         # get next state (for each agent)\n",
    "    rewards = env_info.rewards                         # get reward (for each agent)\n",
    "    dones = env_info.local_done                        # see if episode finished\n",
    "    scores += env_info.rewards                         # update the score (for each agent)\n",
    "    states = next_states                               # roll over states to next time step\n",
    "    if np.any(dones):                                  # exit loop if episode finished\n",
    "        break\n",
    "print('Total score (averaged over agents) this episode: {}'.format(np.mean(scores)))"
   ]
  },
  {
   "cell_type": "markdown",
   "metadata": {},
   "source": [
    "When finished, you can close the environment."
   ]
  },
  {
   "cell_type": "markdown",
   "metadata": {},
   "source": [
    "### 4. It's Your Turn!\n",
    "\n",
    "Now it's your turn to train your own agent to solve the environment!  When training the environment, set `train_mode=True`, so that the line for resetting the environment looks like the following:\n",
    "```python\n",
    "env_info = env.reset(train_mode=True)[brain_name]\n",
    "```"
   ]
  },
  {
   "cell_type": "code",
   "execution_count": 5,
   "metadata": {},
   "outputs": [],
   "source": [
    "from ddpg_multi_agent import Agent\n",
    "\n",
    "def trainFunction(n_episodes=1000, num_agents = 20, init_eps = 1.0):\n",
    "    agent = Agent(state_size=33, action_size=4, seed=37)\n",
    "    eps = init_eps\n",
    "    \n",
    "    avg_scores = []\n",
    "    scores_window = deque(maxlen=100)  # last 100 scores\n",
    "    \n",
    "    for i_episode in range(1, n_episodes + 1):\n",
    "        env_info = env.reset(train_mode=True)[brain_name]  # reset the environment\n",
    "        states = env_info.vector_observations\n",
    "        scores = np.zeros(num_agents)\n",
    "        while True:\n",
    "            actions =[]\n",
    "            for an_agent in range(num_agents):\n",
    "                agent.reset()\n",
    "                actions.append(agent.act(states[an_agent],eps))\n",
    "            eps *=0.99\n",
    "            env_info = env.step(actions)[brain_name]\n",
    "            next_states = env_info.vector_observations  # get the next state\n",
    "            rewards = env_info.rewards  # get the reward\n",
    "            dones = env_info.local_done  # see if episode has finished\n",
    "            for an_agent in range(num_agents):\n",
    "                agent.step(states[an_agent], actions[an_agent], rewards[an_agent], next_states[an_agent], dones[an_agent])\n",
    "            states = next_states\n",
    "            scores += rewards\n",
    "            if np.any(dones):\n",
    "                break\n",
    "        scores_window.append(scores.mean())  # save most recent score\n",
    "        avg_scores.append(scores.mean())  # save most recent score\n",
    "\n",
    "        print('\\rEpisode {}\\tAverage Score: {:.2f}'.format(i_episode, np.mean(scores_window)))\n",
    "        if i_episode % 10 == 0: # Check every 10 episodes\n",
    "            if np.mean(scores_window)>=30.0:\n",
    "                torch.save(agent.actor_local.state_dict(), 'checkpoint_actor_local.pth')           # save local actor\n",
    "                torch.save(agent.actor_target.state_dict(), 'checkpoint_actor_target.pth')         # save target actor\n",
    "                torch.save(agent.critic_local.state_dict(), 'checkpoint_critic_local.pth')         # save local critic\n",
    "                torch.save(agent.critic_target.state_dict(), 'checkpoint_critic_target.pth')       # target critic\n",
    "\n",
    "    print('\\nEnvironment finished in {:d} episodes!\\tAverage Score: {:.2f}'.format(i_episode, np.mean(scores_window)))\n",
    "    return avg_scores"
   ]
  },
  {
   "cell_type": "code",
   "execution_count": null,
   "metadata": {
    "scrolled": false
   },
   "outputs": [
    {
     "name": "stdout",
     "output_type": "stream",
     "text": [
      "Episode 1\tAverage Score: 0.78\n",
      "Episode 2\tAverage Score: 1.81\n",
      "Episode 3\tAverage Score: 2.74\n",
      "Episode 4\tAverage Score: 3.84\n",
      "Episode 5\tAverage Score: 6.67\n",
      "Episode 6\tAverage Score: 9.69\n",
      "Episode 7\tAverage Score: 11.77\n",
      "Episode 8\tAverage Score: 12.44\n",
      "Episode 9\tAverage Score: 12.66\n",
      "Episode 10\tAverage Score: 13.90\n",
      "Episode 11\tAverage Score: 14.89\n",
      "Episode 12\tAverage Score: 15.50\n",
      "Episode 13\tAverage Score: 15.91\n",
      "Episode 14\tAverage Score: 16.49\n",
      "Episode 15\tAverage Score: 17.36\n",
      "Episode 16\tAverage Score: 17.92\n",
      "Episode 17\tAverage Score: 18.54\n",
      "Episode 18\tAverage Score: 19.07\n",
      "Episode 19\tAverage Score: 19.74\n",
      "Episode 20\tAverage Score: 20.11\n",
      "Episode 21\tAverage Score: 20.56\n",
      "Episode 22\tAverage Score: 21.06\n",
      "Episode 23\tAverage Score: 21.70\n",
      "Episode 24\tAverage Score: 22.11\n",
      "Episode 25\tAverage Score: 22.43\n",
      "Episode 26\tAverage Score: 22.70\n",
      "Episode 27\tAverage Score: 23.03\n",
      "Episode 28\tAverage Score: 23.45\n",
      "Episode 29\tAverage Score: 23.82\n",
      "Episode 30\tAverage Score: 23.73\n",
      "Episode 31\tAverage Score: 23.85\n",
      "Episode 32\tAverage Score: 24.07\n",
      "Episode 33\tAverage Score: 24.34\n",
      "Episode 34\tAverage Score: 24.64\n",
      "Episode 35\tAverage Score: 24.92\n",
      "Episode 36\tAverage Score: 25.11\n",
      "Episode 37\tAverage Score: 25.40\n",
      "Episode 38\tAverage Score: 25.62\n",
      "Episode 39\tAverage Score: 25.84\n",
      "Episode 40\tAverage Score: 26.04\n",
      "Episode 41\tAverage Score: 26.28\n",
      "Episode 42\tAverage Score: 26.46\n",
      "Episode 43\tAverage Score: 26.71\n",
      "Episode 44\tAverage Score: 26.94\n",
      "Episode 45\tAverage Score: 27.15\n"
     ]
    }
   ],
   "source": [
    "n_episodes = 300\n",
    "scores = trainFunction(n_episodes)"
   ]
  },
  {
   "cell_type": "code",
   "execution_count": null,
   "metadata": {},
   "outputs": [],
   "source": [
    "with open('results_episodes_.csv', mode='w') as save_scores:\n",
    "    save_sc= csv.writer(save_scores, delimiter=',')\n",
    "    for i,el in enumerate(scores):\n",
    "        save_sc.writerow([i,el])"
   ]
  },
  {
   "cell_type": "code",
   "execution_count": null,
   "metadata": {},
   "outputs": [],
   "source": [
    "import pandas as pd\n",
    "# plot the scores\n",
    "fig = plt.figure()\n",
    "ax = fig.add_subplot(111)\n",
    "plt.plot(np.arange(len(scores)), scores,'b')\n",
    "rolling_mean = pd.Series(scores).rolling(100).mean()\n",
    "plt.plot(np.arange(len(scores)), rolling_mean,'r')\n",
    "plt.ylabel('Score')\n",
    "plt.xlabel('Episode #')\n",
    "plt.show\n"
   ]
  },
  {
   "cell_type": "markdown",
   "metadata": {},
   "source": [
    "And now, let's observer the results of the last one!"
   ]
  },
  {
   "cell_type": "code",
   "execution_count": null,
   "metadata": {},
   "outputs": [],
   "source": [
    "from ddpg_multi_agent import Agent\n",
    "def testFunction():\n",
    "    \n",
    "    agent = Agent(state_size=33, action_size=4, seed=0)\n",
    "    agent.actor_local.load_state_dict(torch.load('checkpoint_actor_local.pth'))\n",
    "    agent.actor_target.load_state_dict(torch.load('checkpoint_actor_target.pth'))\n",
    "    agent.critic_local.load_state_dict(torch.load('checkpoint_critic_local.pth'))\n",
    "    agent.critic_target.load_state_dict(torch.load('checkpoint_critic_target.pth'))   \n",
    "    print(\"Loading weights!\")\n",
    "\n",
    "    env_info = env.reset(train_mode=False)[brain_name]  # reset the environment\n",
    "    states = env_info.vector_observations\n",
    "    scores = np.zeros(num_agents)\n",
    "    while True:\n",
    "        actions =[]\n",
    "        for an_agent in range(num_agents):\n",
    "            agent.reset()\n",
    "            actions.append(agent.act(states[an_agent]))\n",
    "        \n",
    "        env_info = env.step(actions)[brain_name]\n",
    "        next_states = env_info.vector_observations  # get the next state\n",
    "        rewards = env_info.rewards  # get the reward\n",
    "        dones = env_info.local_done  # see if episode has finished\n",
    "        for an_agent in range(num_agents):\n",
    "                agent.step(states[an_agent], actions[an_agent], rewards[an_agent], next_states[an_agent], dones[an_agent])\n",
    "        states = next_states\n",
    "        scores  +=  rewards\n",
    "        if np.any(dones):\n",
    "                break\n",
    "\n",
    "    print(\"Score: {}\".format(scores.mean()))"
   ]
  },
  {
   "cell_type": "code",
   "execution_count": null,
   "metadata": {},
   "outputs": [],
   "source": [
    "testFunction()"
   ]
  },
  {
   "cell_type": "code",
   "execution_count": null,
   "metadata": {},
   "outputs": [],
   "source": [
    "env.close()"
   ]
  }
 ],
 "metadata": {
  "kernelspec": {
   "display_name": "Python 3",
   "language": "python",
   "name": "python3"
  },
  "language_info": {
   "codemirror_mode": {
    "name": "ipython",
    "version": 3
   },
   "file_extension": ".py",
   "mimetype": "text/x-python",
   "name": "python",
   "nbconvert_exporter": "python",
   "pygments_lexer": "ipython3",
   "version": "3.6.12"
  }
 },
 "nbformat": 4,
 "nbformat_minor": 2
}
