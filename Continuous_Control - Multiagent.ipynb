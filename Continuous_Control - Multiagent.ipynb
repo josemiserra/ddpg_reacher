{
 "cells": [
  {
   "cell_type": "markdown",
   "metadata": {},
   "source": [
    "# Continuous Control\n",
    "\n",
    "---\n",
    "\n",
    "In this notebook, you will learn how to use the Unity ML-Agents environment for the second project of the [Deep Reinforcement Learning Nanodegree](https://www.udacity.com/course/deep-reinforcement-learning-nanodegree--nd893) program.\n",
    "\n",
    "### 1. Start the Environment\n",
    "\n",
    "We begin by importing the necessary packages.  If the code cell below returns an error, please revisit the project instructions to double-check that you have installed [Unity ML-Agents](https://github.com/Unity-Technologies/ml-agents/blob/master/docs/Installation.md) and [NumPy](http://www.numpy.org/)."
   ]
  },
  {
   "cell_type": "code",
   "execution_count": 1,
   "metadata": {},
   "outputs": [
    {
     "data": {
      "text/plain": [
       "True"
      ]
     },
     "execution_count": 1,
     "metadata": {},
     "output_type": "execute_result"
    }
   ],
   "source": [
    "from unityagents import UnityEnvironment\n",
    "import numpy as np\n",
    "import torch\n",
    "from collections import deque\n",
    "import matplotlib.pyplot as plt\n",
    "%matplotlib inline\n",
    "torch.cuda.is_available()"
   ]
  },
  {
   "cell_type": "markdown",
   "metadata": {},
   "source": [
    "Next, we will start the environment!  **_Before running the code cell below_**, change the `file_name` parameter to match the location of the Unity environment that you downloaded.\n",
    "\n",
    "- **Mac**: `\"path/to/Reacher.app\"`\n",
    "- **Windows** (x86): `\"path/to/Reacher_Windows_x86/Reacher.exe\"`\n",
    "- **Windows** (x86_64): `\"path/to/Reacher_Windows_x86_64/Reacher.exe\"`\n",
    "- **Linux** (x86): `\"path/to/Reacher_Linux/Reacher.x86\"`\n",
    "- **Linux** (x86_64): `\"path/to/Reacher_Linux/Reacher.x86_64\"`\n",
    "- **Linux** (x86, headless): `\"path/to/Reacher_Linux_NoVis/Reacher.x86\"`\n",
    "- **Linux** (x86_64, headless): `\"path/to/Reacher_Linux_NoVis/Reacher.x86_64\"`\n",
    "\n",
    "For instance, if you are using a Mac, then you downloaded `Reacher.app`.  If this file is in the same folder as the notebook, then the line below should appear as follows:\n",
    "```\n",
    "env = UnityEnvironment(file_name=\"Reacher.app\")\n",
    "```"
   ]
  },
  {
   "cell_type": "code",
   "execution_count": 2,
   "metadata": {},
   "outputs": [
    {
     "name": "stderr",
     "output_type": "stream",
     "text": [
      "INFO:unityagents:\n",
      "'Academy' started successfully!\n",
      "Unity Academy name: Academy\n",
      "        Number of Brains: 1\n",
      "        Number of External Brains : 1\n",
      "        Lesson number : 0\n",
      "        Reset Parameters :\n",
      "\t\tgoal_speed -> 1.0\n",
      "\t\tgoal_size -> 5.0\n",
      "Unity brain name: ReacherBrain\n",
      "        Number of Visual Observations (per agent): 0\n",
      "        Vector Observation space type: continuous\n",
      "        Vector Observation space size (per agent): 33\n",
      "        Number of stacked Vector Observation: 1\n",
      "        Vector Action space type: continuous\n",
      "        Vector Action space size (per agent): 4\n",
      "        Vector Action descriptions: , , , \n"
     ]
    }
   ],
   "source": [
    "env = UnityEnvironment(file_name='Reacher.exe')"
   ]
  },
  {
   "cell_type": "markdown",
   "metadata": {},
   "source": [
    "Environments contain **_brains_** which are responsible for deciding the actions of their associated agents. Here we check for the first brain available, and set it as the default brain we will be controlling from Python."
   ]
  },
  {
   "cell_type": "code",
   "execution_count": 3,
   "metadata": {},
   "outputs": [],
   "source": [
    "# get the default brain\n",
    "brain_name = env.brain_names[0]\n",
    "brain = env.brains[brain_name]"
   ]
  },
  {
   "cell_type": "markdown",
   "metadata": {},
   "source": [
    "### 2. Examine the State and Action Spaces\n",
    "\n",
    "In this environment, a double-jointed arm can move to target locations. A reward of `+0.1` is provided for each step that the agent's hand is in the goal location. Thus, the goal of your agent is to maintain its position at the target location for as many time steps as possible.\n",
    "\n",
    "The observation space consists of `33` variables corresponding to position, rotation, velocity, and angular velocities of the arm.  Each action is a vector with four numbers, corresponding to torque applicable to two joints.  Every entry in the action vector must be a number between `-1` and `1`.\n",
    "\n",
    "Run the code cell below to print some information about the environment."
   ]
  },
  {
   "cell_type": "code",
   "execution_count": 9,
   "metadata": {},
   "outputs": [
    {
     "name": "stdout",
     "output_type": "stream",
     "text": [
      "Number of agents: 20\n",
      "Size of each action: 4\n",
      "There are 20 agents. Each observes a state with length: 33\n",
      "The state for the first agent looks like: [ 0.00000000e+00 -4.00000000e+00  0.00000000e+00  1.00000000e+00\n",
      " -0.00000000e+00 -0.00000000e+00 -4.37113883e-08  0.00000000e+00\n",
      "  0.00000000e+00  0.00000000e+00  0.00000000e+00  0.00000000e+00\n",
      "  0.00000000e+00  0.00000000e+00 -1.00000000e+01  0.00000000e+00\n",
      "  1.00000000e+00 -0.00000000e+00 -0.00000000e+00 -4.37113883e-08\n",
      "  0.00000000e+00  0.00000000e+00  0.00000000e+00  0.00000000e+00\n",
      "  0.00000000e+00  0.00000000e+00  7.90150833e+00 -1.00000000e+00\n",
      "  1.25147629e+00  0.00000000e+00  1.00000000e+00  0.00000000e+00\n",
      " -5.22214413e-01]\n"
     ]
    }
   ],
   "source": [
    "# reset the environment\n",
    "env_info = env.reset(train_mode=True)[brain_name]\n",
    "\n",
    "# number of agents\n",
    "num_agents = len(env_info.agents)\n",
    "print('Number of agents:', num_agents)\n",
    "\n",
    "# size of each action\n",
    "action_size = brain.vector_action_space_size\n",
    "print('Size of each action:', action_size)\n",
    "\n",
    "# examine the state space \n",
    "states = env_info.vector_observations\n",
    "state_size = states.shape[1]\n",
    "print('There are {} agents. Each observes a state with length: {}'.format(states.shape[0], state_size))\n",
    "print('The state for the first agent looks like:', states[0])"
   ]
  },
  {
   "cell_type": "markdown",
   "metadata": {},
   "source": [
    "### 3. Take Random Actions in the Environment\n",
    "\n",
    "In the next code cell, you will learn how to use the Python API to control the agent and receive feedback from the environment.\n",
    "\n",
    "Once this cell is executed, you will watch the agent's performance, if it selects an action at random with each time step.  A window should pop up that allows you to observe the agent, as it moves through the environment.  \n",
    "\n",
    "Of course, as part of the project, you'll have to change the code so that the agent is able to use its experience to gradually choose better actions when interacting with the environment!"
   ]
  },
  {
   "cell_type": "raw",
   "metadata": {},
   "source": [
    "env_info = env.reset(train_mode=False)[brain_name]     # reset the environment    \n",
    "states = env_info.vector_observations                  # get the current state (for each agent)\n",
    "scores = np.zeros(num_agents)                          # initialize the score (for each agent)\n",
    "while True:\n",
    "    actions = np.random.randn(num_agents, action_size) # select an action (for each agent)\n",
    "    actions = np.clip(actions, -1, 1)                  # all actions between -1 and 1\n",
    "    env_info = env.step(actions)[brain_name]           # send all actions to tne environment\n",
    "    next_states = env_info.vector_observations         # get next state (for each agent)\n",
    "    rewards = env_info.rewards                         # get reward (for each agent)\n",
    "    dones = env_info.local_done                        # see if episode finished\n",
    "    scores += env_info.rewards                         # update the score (for each agent)\n",
    "    states = next_states                               # roll over states to next time step\n",
    "    if np.any(dones):                                  # exit loop if episode finished\n",
    "        break\n",
    "print('Total score (averaged over agents) this episode: {}'.format(np.mean(scores)))"
   ]
  },
  {
   "cell_type": "markdown",
   "metadata": {},
   "source": [
    "When finished, you can close the environment."
   ]
  },
  {
   "cell_type": "markdown",
   "metadata": {},
   "source": [
    "### 4. It's Your Turn!\n",
    "\n",
    "Now it's your turn to train your own agent to solve the environment!  When training the environment, set `train_mode=True`, so that the line for resetting the environment looks like the following:\n",
    "```python\n",
    "env_info = env.reset(train_mode=True)[brain_name]\n",
    "```"
   ]
  },
  {
   "cell_type": "code",
   "execution_count": 4,
   "metadata": {},
   "outputs": [],
   "source": [
    "from ddpg_multi_agent import Agent\n",
    "\n",
    "def trainFunction(n_episodes=1000, num_agents = 20, init_eps = 1.0):\n",
    "    agent = Agent(state_size=33, action_size=4, seed=37)\n",
    "    eps = init_eps\n",
    "    \n",
    "    avg_scores = []\n",
    "    scores_window = deque(maxlen=100)  # last 100 scores\n",
    "    \n",
    "    for i_episode in range(1, n_episodes + 1):\n",
    "        env_info = env.reset(train_mode=True)[brain_name]  # reset the environment\n",
    "        states = env_info.vector_observations\n",
    "        scores = np.zeros(num_agents)\n",
    "        while True:\n",
    "            actions =[]\n",
    "            for an_agent in range(num_agents):\n",
    "                agent.reset()\n",
    "                actions.append(agent.act(states[an_agent],eps))\n",
    "            eps *=0.99\n",
    "            env_info = env.step(actions)[brain_name]\n",
    "            next_states = env_info.vector_observations  # get the next state\n",
    "            rewards = env_info.rewards  # get the reward\n",
    "            dones = env_info.local_done  # see if episode has finished\n",
    "            for an_agent in range(num_agents):\n",
    "                agent.step(states[an_agent], actions[an_agent], rewards[an_agent], next_states[an_agent], dones[an_agent])\n",
    "            states = next_states\n",
    "            scores += rewards\n",
    "            if np.any(dones):\n",
    "                break\n",
    "        scores_window.append(scores.mean())  # save most recent score\n",
    "        avg_scores.append(scores.mean())  # save most recent score\n",
    "\n",
    "        print('\\rEpisode {}\\tAverage Score: {:.2f}'.format(i_episode, np.mean(scores_window)))\n",
    "        if i_episode % 10 == 0: # Check every 10 episodes\n",
    "            if np.mean(scores_window)>=30.0:\n",
    "                torch.save(agent.actor_local.state_dict(), 'checkpoint_actor_local.pth')           # save local actor\n",
    "                torch.save(agent.actor_target.state_dict(), 'checkpoint_actor_target.pth')         # save target actor\n",
    "                torch.save(agent.critic_local.state_dict(), 'checkpoint_critic_local.pth')         # save local critic\n",
    "                torch.save(agent.critic_target.state_dict(), 'checkpoint_critic_target.pth')       # target critic\n",
    "\n",
    "    print('\\nEnvironment finished in {:d} episodes!\\tAverage Score: {:.2f}'.format(i_episode, np.mean(scores_window)))\n",
    "    return avg_scores"
   ]
  },
  {
   "cell_type": "code",
   "execution_count": 6,
   "metadata": {
    "scrolled": false
   },
   "outputs": [
    {
     "name": "stdout",
     "output_type": "stream",
     "text": [
      "Episode 1\tAverage Score: 0.78\n",
      "Episode 2\tAverage Score: 1.81\n",
      "Episode 3\tAverage Score: 2.74\n",
      "Episode 4\tAverage Score: 3.84\n",
      "Episode 5\tAverage Score: 6.67\n",
      "Episode 6\tAverage Score: 9.69\n",
      "Episode 7\tAverage Score: 11.77\n",
      "Episode 8\tAverage Score: 12.44\n",
      "Episode 9\tAverage Score: 12.66\n",
      "Episode 10\tAverage Score: 13.90\n",
      "Episode 11\tAverage Score: 14.89\n",
      "Episode 12\tAverage Score: 15.50\n",
      "Episode 13\tAverage Score: 15.91\n",
      "Episode 14\tAverage Score: 16.49\n",
      "Episode 15\tAverage Score: 17.36\n",
      "Episode 16\tAverage Score: 17.92\n",
      "Episode 17\tAverage Score: 18.54\n",
      "Episode 18\tAverage Score: 19.07\n",
      "Episode 19\tAverage Score: 19.74\n",
      "Episode 20\tAverage Score: 20.11\n",
      "Episode 21\tAverage Score: 20.56\n",
      "Episode 22\tAverage Score: 21.06\n",
      "Episode 23\tAverage Score: 21.70\n",
      "Episode 24\tAverage Score: 22.11\n",
      "Episode 25\tAverage Score: 22.43\n",
      "Episode 26\tAverage Score: 22.70\n",
      "Episode 27\tAverage Score: 23.03\n",
      "Episode 28\tAverage Score: 23.45\n",
      "Episode 29\tAverage Score: 23.82\n",
      "Episode 30\tAverage Score: 23.73\n",
      "Episode 31\tAverage Score: 23.85\n",
      "Episode 32\tAverage Score: 24.07\n",
      "Episode 33\tAverage Score: 24.34\n",
      "Episode 34\tAverage Score: 24.64\n",
      "Episode 35\tAverage Score: 24.92\n",
      "Episode 36\tAverage Score: 25.11\n",
      "Episode 37\tAverage Score: 25.40\n",
      "Episode 38\tAverage Score: 25.62\n",
      "Episode 39\tAverage Score: 25.84\n",
      "Episode 40\tAverage Score: 26.04\n",
      "Episode 41\tAverage Score: 26.28\n",
      "Episode 42\tAverage Score: 26.46\n",
      "Episode 43\tAverage Score: 26.71\n",
      "Episode 44\tAverage Score: 26.94\n",
      "Episode 45\tAverage Score: 27.15\n",
      "Episode 46\tAverage Score: 27.37\n",
      "Episode 47\tAverage Score: 27.57\n",
      "Episode 48\tAverage Score: 27.74\n",
      "Episode 49\tAverage Score: 27.93\n",
      "Episode 50\tAverage Score: 28.12\n",
      "Episode 51\tAverage Score: 28.28\n",
      "Episode 52\tAverage Score: 28.46\n",
      "Episode 53\tAverage Score: 28.61\n",
      "Episode 54\tAverage Score: 28.72\n",
      "Episode 55\tAverage Score: 28.83\n",
      "Episode 56\tAverage Score: 28.93\n",
      "Episode 57\tAverage Score: 29.02\n",
      "Episode 58\tAverage Score: 29.12\n",
      "Episode 59\tAverage Score: 29.26\n",
      "Episode 60\tAverage Score: 29.38\n",
      "Episode 61\tAverage Score: 29.47\n",
      "Episode 62\tAverage Score: 29.58\n",
      "Episode 63\tAverage Score: 29.64\n",
      "Episode 64\tAverage Score: 29.72\n",
      "Episode 65\tAverage Score: 29.82\n",
      "Episode 66\tAverage Score: 29.92\n",
      "Episode 67\tAverage Score: 30.03\n",
      "Episode 68\tAverage Score: 30.09\n",
      "Episode 69\tAverage Score: 30.17\n",
      "Episode 70\tAverage Score: 30.24\n",
      "Episode 71\tAverage Score: 30.31\n",
      "Episode 72\tAverage Score: 30.38\n",
      "Episode 73\tAverage Score: 30.45\n",
      "Episode 74\tAverage Score: 30.51\n",
      "Episode 75\tAverage Score: 30.55\n",
      "Episode 76\tAverage Score: 30.52\n",
      "Episode 77\tAverage Score: 30.53\n",
      "Episode 78\tAverage Score: 30.56\n",
      "Episode 79\tAverage Score: 30.57\n",
      "Episode 80\tAverage Score: 30.63\n",
      "Episode 81\tAverage Score: 30.64\n",
      "Episode 82\tAverage Score: 30.67\n",
      "Episode 83\tAverage Score: 30.67\n",
      "Episode 84\tAverage Score: 30.70\n",
      "Episode 85\tAverage Score: 30.72\n",
      "Episode 86\tAverage Score: 30.63\n",
      "Episode 87\tAverage Score: 30.58\n",
      "Episode 88\tAverage Score: 30.58\n",
      "Episode 89\tAverage Score: 30.58\n",
      "Episode 90\tAverage Score: 30.60\n",
      "Episode 91\tAverage Score: 30.62\n",
      "Episode 92\tAverage Score: 30.56\n",
      "Episode 93\tAverage Score: 30.61\n",
      "Episode 94\tAverage Score: 30.64\n",
      "Episode 95\tAverage Score: 30.70\n",
      "Episode 96\tAverage Score: 30.73\n",
      "Episode 97\tAverage Score: 30.72\n",
      "Episode 98\tAverage Score: 30.74\n",
      "Episode 99\tAverage Score: 30.73\n",
      "Episode 100\tAverage Score: 30.74\n",
      "Episode 101\tAverage Score: 31.09\n",
      "Episode 102\tAverage Score: 31.41\n",
      "Episode 103\tAverage Score: 31.72\n",
      "Episode 104\tAverage Score: 31.99\n",
      "Episode 105\tAverage Score: 32.15\n",
      "Episode 106\tAverage Score: 32.27\n",
      "Episode 107\tAverage Score: 32.38\n",
      "Episode 108\tAverage Score: 32.55\n",
      "Episode 109\tAverage Score: 32.75\n",
      "Episode 110\tAverage Score: 32.86\n",
      "Episode 111\tAverage Score: 32.98\n",
      "Episode 112\tAverage Score: 33.04\n",
      "Episode 113\tAverage Score: 33.08\n",
      "Episode 114\tAverage Score: 33.17\n",
      "Episode 115\tAverage Score: 33.19\n",
      "Episode 116\tAverage Score: 33.29\n",
      "Episode 117\tAverage Score: 33.37\n",
      "Episode 118\tAverage Score: 33.45\n",
      "Episode 119\tAverage Score: 33.45\n",
      "Episode 120\tAverage Score: 33.54\n",
      "Episode 121\tAverage Score: 33.62\n",
      "Episode 122\tAverage Score: 33.65\n",
      "Episode 123\tAverage Score: 33.65\n",
      "Episode 124\tAverage Score: 33.68\n",
      "Episode 125\tAverage Score: 33.70\n",
      "Episode 126\tAverage Score: 33.76\n",
      "Episode 127\tAverage Score: 33.81\n",
      "Episode 128\tAverage Score: 33.82\n",
      "Episode 129\tAverage Score: 33.82\n",
      "Episode 130\tAverage Score: 33.96\n",
      "Episode 131\tAverage Score: 34.01\n",
      "Episode 132\tAverage Score: 34.06\n",
      "Episode 133\tAverage Score: 34.09\n",
      "Episode 134\tAverage Score: 34.09\n",
      "Episode 135\tAverage Score: 34.08\n",
      "Episode 136\tAverage Score: 34.14\n",
      "Episode 137\tAverage Score: 34.15\n",
      "Episode 138\tAverage Score: 34.16\n",
      "Episode 139\tAverage Score: 34.13\n",
      "Episode 140\tAverage Score: 34.03\n",
      "Episode 141\tAverage Score: 33.93\n",
      "Episode 142\tAverage Score: 33.91\n",
      "Episode 143\tAverage Score: 33.88\n",
      "Episode 144\tAverage Score: 33.81\n",
      "Episode 145\tAverage Score: 33.76\n",
      "Episode 146\tAverage Score: 33.70\n",
      "Episode 147\tAverage Score: 33.66\n",
      "Episode 148\tAverage Score: 33.65\n",
      "Episode 149\tAverage Score: 33.63\n",
      "Episode 150\tAverage Score: 33.61\n",
      "Episode 151\tAverage Score: 33.59\n",
      "Episode 152\tAverage Score: 33.52\n",
      "Episode 153\tAverage Score: 33.47\n",
      "Episode 154\tAverage Score: 33.43\n",
      "Episode 155\tAverage Score: 33.39\n",
      "Episode 156\tAverage Score: 33.37\n",
      "Episode 157\tAverage Score: 33.36\n",
      "Episode 158\tAverage Score: 33.33\n",
      "Episode 159\tAverage Score: 33.25\n",
      "Episode 160\tAverage Score: 33.20\n",
      "Episode 161\tAverage Score: 33.19\n",
      "Episode 162\tAverage Score: 33.17\n",
      "Episode 163\tAverage Score: 33.18\n",
      "Episode 164\tAverage Score: 33.17\n",
      "Episode 165\tAverage Score: 33.17\n",
      "Episode 166\tAverage Score: 33.17\n",
      "Episode 167\tAverage Score: 33.13\n",
      "Episode 168\tAverage Score: 33.10\n",
      "Episode 169\tAverage Score: 33.11\n",
      "Episode 170\tAverage Score: 33.10\n",
      "Episode 171\tAverage Score: 33.06\n",
      "Episode 172\tAverage Score: 33.06\n",
      "Episode 173\tAverage Score: 33.01\n",
      "Episode 174\tAverage Score: 33.01\n",
      "Episode 175\tAverage Score: 33.01\n",
      "Episode 176\tAverage Score: 33.07\n",
      "Episode 177\tAverage Score: 33.09\n",
      "Episode 178\tAverage Score: 33.06\n",
      "Episode 179\tAverage Score: 33.09\n",
      "Episode 180\tAverage Score: 33.05\n",
      "Episode 181\tAverage Score: 33.06\n",
      "Episode 182\tAverage Score: 33.06\n",
      "Episode 183\tAverage Score: 33.09\n",
      "Episode 184\tAverage Score: 33.07\n",
      "Episode 185\tAverage Score: 33.07\n",
      "Episode 186\tAverage Score: 33.16\n",
      "Episode 187\tAverage Score: 33.24\n",
      "Episode 188\tAverage Score: 33.28\n",
      "Episode 189\tAverage Score: 33.31\n",
      "Episode 190\tAverage Score: 33.30\n",
      "Episode 191\tAverage Score: 33.31\n",
      "Episode 192\tAverage Score: 33.37\n",
      "Episode 193\tAverage Score: 33.30\n",
      "Episode 194\tAverage Score: 33.25\n",
      "Episode 195\tAverage Score: 33.21\n",
      "Episode 196\tAverage Score: 33.21\n",
      "Episode 197\tAverage Score: 33.21\n",
      "Episode 198\tAverage Score: 33.17\n",
      "Episode 199\tAverage Score: 33.16\n",
      "Episode 200\tAverage Score: 33.11\n",
      "Episode 201\tAverage Score: 32.99\n",
      "Episode 202\tAverage Score: 32.94\n",
      "Episode 203\tAverage Score: 32.89\n",
      "Episode 204\tAverage Score: 32.85\n",
      "Episode 205\tAverage Score: 32.74\n",
      "Episode 206\tAverage Score: 32.64\n",
      "Episode 207\tAverage Score: 32.56\n",
      "Episode 208\tAverage Score: 32.49\n",
      "Episode 209\tAverage Score: 32.46\n",
      "Episode 210\tAverage Score: 32.40\n",
      "Episode 211\tAverage Score: 32.35\n",
      "Episode 212\tAverage Score: 32.35\n",
      "Episode 213\tAverage Score: 32.39\n",
      "Episode 214\tAverage Score: 32.37\n",
      "Episode 215\tAverage Score: 32.33\n",
      "Episode 216\tAverage Score: 32.27\n",
      "Episode 217\tAverage Score: 32.20\n",
      "Episode 218\tAverage Score: 32.17\n",
      "Episode 219\tAverage Score: 32.17\n",
      "Episode 220\tAverage Score: 32.15\n",
      "Episode 221\tAverage Score: 32.08\n",
      "Episode 222\tAverage Score: 32.07\n",
      "Episode 223\tAverage Score: 32.05\n",
      "Episode 224\tAverage Score: 32.01\n",
      "Episode 225\tAverage Score: 31.97\n",
      "Episode 226\tAverage Score: 31.91\n",
      "Episode 227\tAverage Score: 31.87\n",
      "Episode 228\tAverage Score: 31.84\n",
      "Episode 229\tAverage Score: 31.81\n",
      "Episode 230\tAverage Score: 31.79\n",
      "Episode 231\tAverage Score: 31.78\n",
      "Episode 232\tAverage Score: 31.73\n",
      "Episode 233\tAverage Score: 31.70\n",
      "Episode 234\tAverage Score: 31.70\n",
      "Episode 235\tAverage Score: 31.65\n",
      "Episode 236\tAverage Score: 31.56\n"
     ]
    },
    {
     "ename": "KeyboardInterrupt",
     "evalue": "",
     "output_type": "error",
     "traceback": [
      "\u001b[1;31m---------------------------------------------------------------------------\u001b[0m",
      "\u001b[1;31mKeyboardInterrupt\u001b[0m                         Traceback (most recent call last)",
      "\u001b[1;32m<ipython-input-6-649f27e314fd>\u001b[0m in \u001b[0;36m<module>\u001b[1;34m\u001b[0m\n\u001b[0;32m      1\u001b[0m \u001b[0mn_episodes\u001b[0m \u001b[1;33m=\u001b[0m \u001b[1;36m300\u001b[0m\u001b[1;33m\u001b[0m\u001b[1;33m\u001b[0m\u001b[0m\n\u001b[1;32m----> 2\u001b[1;33m \u001b[0mscores\u001b[0m \u001b[1;33m=\u001b[0m \u001b[0mtrainFunction\u001b[0m\u001b[1;33m(\u001b[0m\u001b[0mn_episodes\u001b[0m\u001b[1;33m)\u001b[0m\u001b[1;33m\u001b[0m\u001b[1;33m\u001b[0m\u001b[0m\n\u001b[0m",
      "\u001b[1;32m<ipython-input-5-86ec95892f09>\u001b[0m in \u001b[0;36mtrainFunction\u001b[1;34m(n_episodes, num_agents, init_eps)\u001b[0m\n\u001b[0;32m     23\u001b[0m             \u001b[0mdones\u001b[0m \u001b[1;33m=\u001b[0m \u001b[0menv_info\u001b[0m\u001b[1;33m.\u001b[0m\u001b[0mlocal_done\u001b[0m  \u001b[1;31m# see if episode has finished\u001b[0m\u001b[1;33m\u001b[0m\u001b[1;33m\u001b[0m\u001b[0m\n\u001b[0;32m     24\u001b[0m             \u001b[1;32mfor\u001b[0m \u001b[0man_agent\u001b[0m \u001b[1;32min\u001b[0m \u001b[0mrange\u001b[0m\u001b[1;33m(\u001b[0m\u001b[0mnum_agents\u001b[0m\u001b[1;33m)\u001b[0m\u001b[1;33m:\u001b[0m\u001b[1;33m\u001b[0m\u001b[1;33m\u001b[0m\u001b[0m\n\u001b[1;32m---> 25\u001b[1;33m                 \u001b[0magent\u001b[0m\u001b[1;33m.\u001b[0m\u001b[0mstep\u001b[0m\u001b[1;33m(\u001b[0m\u001b[0mstates\u001b[0m\u001b[1;33m[\u001b[0m\u001b[0man_agent\u001b[0m\u001b[1;33m]\u001b[0m\u001b[1;33m,\u001b[0m \u001b[0mactions\u001b[0m\u001b[1;33m[\u001b[0m\u001b[0man_agent\u001b[0m\u001b[1;33m]\u001b[0m\u001b[1;33m,\u001b[0m \u001b[0mrewards\u001b[0m\u001b[1;33m[\u001b[0m\u001b[0man_agent\u001b[0m\u001b[1;33m]\u001b[0m\u001b[1;33m,\u001b[0m \u001b[0mnext_states\u001b[0m\u001b[1;33m[\u001b[0m\u001b[0man_agent\u001b[0m\u001b[1;33m]\u001b[0m\u001b[1;33m,\u001b[0m \u001b[0mdones\u001b[0m\u001b[1;33m[\u001b[0m\u001b[0man_agent\u001b[0m\u001b[1;33m]\u001b[0m\u001b[1;33m)\u001b[0m\u001b[1;33m\u001b[0m\u001b[1;33m\u001b[0m\u001b[0m\n\u001b[0m\u001b[0;32m     26\u001b[0m             \u001b[0mstates\u001b[0m \u001b[1;33m=\u001b[0m \u001b[0mnext_states\u001b[0m\u001b[1;33m\u001b[0m\u001b[1;33m\u001b[0m\u001b[0m\n\u001b[0;32m     27\u001b[0m             \u001b[0mscores\u001b[0m \u001b[1;33m+=\u001b[0m \u001b[0mrewards\u001b[0m\u001b[1;33m\u001b[0m\u001b[1;33m\u001b[0m\u001b[0m\n",
      "\u001b[1;32m~\\Desktop\\NanodegreeRL\\deep-reinforcement-learning\\p2_continuous-control\\Reacher\\ddpg_multi_agent.py\u001b[0m in \u001b[0;36mstep\u001b[1;34m(self, state, action, reward, next_state, done)\u001b[0m\n\u001b[0;32m     74\u001b[0m                 \u001b[1;32mfor\u001b[0m \u001b[0m_\u001b[0m \u001b[1;32min\u001b[0m \u001b[0mrange\u001b[0m\u001b[1;33m(\u001b[0m\u001b[0mLEARN_N\u001b[0m\u001b[1;33m)\u001b[0m\u001b[1;33m:\u001b[0m\u001b[1;33m\u001b[0m\u001b[1;33m\u001b[0m\u001b[0m\n\u001b[0;32m     75\u001b[0m                     \u001b[0mexperiences\u001b[0m \u001b[1;33m=\u001b[0m \u001b[0mself\u001b[0m\u001b[1;33m.\u001b[0m\u001b[0mmemory\u001b[0m\u001b[1;33m.\u001b[0m\u001b[0msample\u001b[0m\u001b[1;33m(\u001b[0m\u001b[1;33m)\u001b[0m\u001b[1;33m\u001b[0m\u001b[1;33m\u001b[0m\u001b[0m\n\u001b[1;32m---> 76\u001b[1;33m                     \u001b[0mself\u001b[0m\u001b[1;33m.\u001b[0m\u001b[0mlearn\u001b[0m\u001b[1;33m(\u001b[0m\u001b[0mexperiences\u001b[0m\u001b[1;33m,\u001b[0m \u001b[0mGAMMA\u001b[0m\u001b[1;33m)\u001b[0m\u001b[1;33m\u001b[0m\u001b[1;33m\u001b[0m\u001b[0m\n\u001b[0m\u001b[0;32m     77\u001b[0m \u001b[1;33m\u001b[0m\u001b[0m\n\u001b[0;32m     78\u001b[0m     \u001b[1;32mdef\u001b[0m \u001b[0mact\u001b[0m\u001b[1;33m(\u001b[0m\u001b[0mself\u001b[0m\u001b[1;33m,\u001b[0m \u001b[0mstate\u001b[0m\u001b[1;33m,\u001b[0m \u001b[0meps\u001b[0m\u001b[1;33m=\u001b[0m\u001b[1;36m1.0\u001b[0m\u001b[1;33m,\u001b[0m \u001b[0madd_noise\u001b[0m\u001b[1;33m=\u001b[0m\u001b[1;32mTrue\u001b[0m\u001b[1;33m)\u001b[0m\u001b[1;33m:\u001b[0m\u001b[1;33m\u001b[0m\u001b[1;33m\u001b[0m\u001b[0m\n",
      "\u001b[1;32m~\\Desktop\\NanodegreeRL\\deep-reinforcement-learning\\p2_continuous-control\\Reacher\\replay_buffer.py\u001b[0m in \u001b[0;36msample\u001b[1;34m(self)\u001b[0m\n\u001b[0;32m     31\u001b[0m         \u001b[0mexperiences\u001b[0m \u001b[1;33m=\u001b[0m \u001b[0mrandom\u001b[0m\u001b[1;33m.\u001b[0m\u001b[0msample\u001b[0m\u001b[1;33m(\u001b[0m\u001b[0mself\u001b[0m\u001b[1;33m.\u001b[0m\u001b[0mmemory\u001b[0m\u001b[1;33m,\u001b[0m \u001b[0mk\u001b[0m\u001b[1;33m=\u001b[0m\u001b[0mself\u001b[0m\u001b[1;33m.\u001b[0m\u001b[0mbatch_size\u001b[0m\u001b[1;33m)\u001b[0m\u001b[1;33m\u001b[0m\u001b[1;33m\u001b[0m\u001b[0m\n\u001b[0;32m     32\u001b[0m \u001b[1;33m\u001b[0m\u001b[0m\n\u001b[1;32m---> 33\u001b[1;33m         \u001b[0mstates\u001b[0m \u001b[1;33m=\u001b[0m \u001b[0mtorch\u001b[0m\u001b[1;33m.\u001b[0m\u001b[0mfrom_numpy\u001b[0m\u001b[1;33m(\u001b[0m\u001b[0mnp\u001b[0m\u001b[1;33m.\u001b[0m\u001b[0mvstack\u001b[0m\u001b[1;33m(\u001b[0m\u001b[1;33m[\u001b[0m\u001b[0me\u001b[0m\u001b[1;33m.\u001b[0m\u001b[0mstate\u001b[0m \u001b[1;32mfor\u001b[0m \u001b[0me\u001b[0m \u001b[1;32min\u001b[0m \u001b[0mexperiences\u001b[0m \u001b[1;32mif\u001b[0m \u001b[0me\u001b[0m \u001b[1;32mis\u001b[0m \u001b[1;32mnot\u001b[0m \u001b[1;32mNone\u001b[0m\u001b[1;33m]\u001b[0m\u001b[1;33m)\u001b[0m\u001b[1;33m)\u001b[0m\u001b[1;33m.\u001b[0m\u001b[0mfloat\u001b[0m\u001b[1;33m(\u001b[0m\u001b[1;33m)\u001b[0m\u001b[1;33m.\u001b[0m\u001b[0mto\u001b[0m\u001b[1;33m(\u001b[0m\u001b[0mdevice\u001b[0m\u001b[1;33m)\u001b[0m\u001b[1;33m\u001b[0m\u001b[1;33m\u001b[0m\u001b[0m\n\u001b[0m\u001b[0;32m     34\u001b[0m         \u001b[0mactions\u001b[0m \u001b[1;33m=\u001b[0m \u001b[0mtorch\u001b[0m\u001b[1;33m.\u001b[0m\u001b[0mfrom_numpy\u001b[0m\u001b[1;33m(\u001b[0m\u001b[0mnp\u001b[0m\u001b[1;33m.\u001b[0m\u001b[0mvstack\u001b[0m\u001b[1;33m(\u001b[0m\u001b[1;33m[\u001b[0m\u001b[0me\u001b[0m\u001b[1;33m.\u001b[0m\u001b[0maction\u001b[0m \u001b[1;32mfor\u001b[0m \u001b[0me\u001b[0m \u001b[1;32min\u001b[0m \u001b[0mexperiences\u001b[0m \u001b[1;32mif\u001b[0m \u001b[0me\u001b[0m \u001b[1;32mis\u001b[0m \u001b[1;32mnot\u001b[0m \u001b[1;32mNone\u001b[0m\u001b[1;33m]\u001b[0m\u001b[1;33m)\u001b[0m\u001b[1;33m)\u001b[0m\u001b[1;33m.\u001b[0m\u001b[0mfloat\u001b[0m\u001b[1;33m(\u001b[0m\u001b[1;33m)\u001b[0m\u001b[1;33m.\u001b[0m\u001b[0mto\u001b[0m\u001b[1;33m(\u001b[0m\u001b[0mdevice\u001b[0m\u001b[1;33m)\u001b[0m\u001b[1;33m\u001b[0m\u001b[1;33m\u001b[0m\u001b[0m\n\u001b[0;32m     35\u001b[0m         \u001b[0mrewards\u001b[0m \u001b[1;33m=\u001b[0m \u001b[0mtorch\u001b[0m\u001b[1;33m.\u001b[0m\u001b[0mfrom_numpy\u001b[0m\u001b[1;33m(\u001b[0m\u001b[0mnp\u001b[0m\u001b[1;33m.\u001b[0m\u001b[0mvstack\u001b[0m\u001b[1;33m(\u001b[0m\u001b[1;33m[\u001b[0m\u001b[0me\u001b[0m\u001b[1;33m.\u001b[0m\u001b[0mreward\u001b[0m \u001b[1;32mfor\u001b[0m \u001b[0me\u001b[0m \u001b[1;32min\u001b[0m \u001b[0mexperiences\u001b[0m \u001b[1;32mif\u001b[0m \u001b[0me\u001b[0m \u001b[1;32mis\u001b[0m \u001b[1;32mnot\u001b[0m \u001b[1;32mNone\u001b[0m\u001b[1;33m]\u001b[0m\u001b[1;33m)\u001b[0m\u001b[1;33m)\u001b[0m\u001b[1;33m.\u001b[0m\u001b[0mfloat\u001b[0m\u001b[1;33m(\u001b[0m\u001b[1;33m)\u001b[0m\u001b[1;33m.\u001b[0m\u001b[0mto\u001b[0m\u001b[1;33m(\u001b[0m\u001b[0mdevice\u001b[0m\u001b[1;33m)\u001b[0m\u001b[1;33m\u001b[0m\u001b[1;33m\u001b[0m\u001b[0m\n",
      "\u001b[1;32m<__array_function__ internals>\u001b[0m in \u001b[0;36mvstack\u001b[1;34m(*args, **kwargs)\u001b[0m\n",
      "\u001b[1;32mc:\\users\\serra\\appdata\\anaconda3\\envs\\drlnd\\lib\\site-packages\\numpy\\core\\shape_base.py\u001b[0m in \u001b[0;36mvstack\u001b[1;34m(tup)\u001b[0m\n\u001b[0;32m    281\u001b[0m     \u001b[1;32mif\u001b[0m \u001b[1;32mnot\u001b[0m \u001b[0misinstance\u001b[0m\u001b[1;33m(\u001b[0m\u001b[0marrs\u001b[0m\u001b[1;33m,\u001b[0m \u001b[0mlist\u001b[0m\u001b[1;33m)\u001b[0m\u001b[1;33m:\u001b[0m\u001b[1;33m\u001b[0m\u001b[1;33m\u001b[0m\u001b[0m\n\u001b[0;32m    282\u001b[0m         \u001b[0marrs\u001b[0m \u001b[1;33m=\u001b[0m \u001b[1;33m[\u001b[0m\u001b[0marrs\u001b[0m\u001b[1;33m]\u001b[0m\u001b[1;33m\u001b[0m\u001b[1;33m\u001b[0m\u001b[0m\n\u001b[1;32m--> 283\u001b[1;33m     \u001b[1;32mreturn\u001b[0m \u001b[0m_nx\u001b[0m\u001b[1;33m.\u001b[0m\u001b[0mconcatenate\u001b[0m\u001b[1;33m(\u001b[0m\u001b[0marrs\u001b[0m\u001b[1;33m,\u001b[0m \u001b[1;36m0\u001b[0m\u001b[1;33m)\u001b[0m\u001b[1;33m\u001b[0m\u001b[1;33m\u001b[0m\u001b[0m\n\u001b[0m\u001b[0;32m    284\u001b[0m \u001b[1;33m\u001b[0m\u001b[0m\n\u001b[0;32m    285\u001b[0m \u001b[1;33m\u001b[0m\u001b[0m\n",
      "\u001b[1;32m<__array_function__ internals>\u001b[0m in \u001b[0;36mconcatenate\u001b[1;34m(*args, **kwargs)\u001b[0m\n",
      "\u001b[1;31mKeyboardInterrupt\u001b[0m: "
     ]
    }
   ],
   "source": [
    "n_episodes = 300\n",
    "scores = trainFunction(n_episodes)"
   ]
  },
  {
   "cell_type": "code",
   "execution_count": null,
   "metadata": {},
   "outputs": [],
   "source": [
    "with open('results_episodes_.csv', mode='w') as save_scores:\n",
    "    save_sc= csv.writer(save_scores, delimiter=',')\n",
    "    for i,el in enumerate(scores):\n",
    "        save_sc.writerow([i,el])"
   ]
  },
  {
   "cell_type": "code",
   "execution_count": null,
   "metadata": {},
   "outputs": [],
   "source": [
    "import csv\n",
    "scores = []\n",
    "with open('avg_rewards.txt', mode='r') as save_scores:\n",
    "    sc= csv.reader(save_scores, delimiter=',')\n",
    "    for row in sc:\n",
    "        scores.append(float(row[1]))"
   ]
  },
  {
   "cell_type": "code",
   "execution_count": 13,
   "metadata": {},
   "outputs": [
    {
     "data": {
      "text/plain": [
       "<function matplotlib.pyplot.show(close=None, block=None)>"
      ]
     },
     "execution_count": 13,
     "metadata": {},
     "output_type": "execute_result"
    },
    {
     "data": {
      "image/png": "[encoded data removed]",
      "text/plain": [
       "<Figure size 432x288 with 1 Axes>"
      ]
     },
     "metadata": {
      "needs_background": "light"
     },
     "output_type": "display_data"
    }
   ],
   "source": [
    "import pandas as pd\n",
    "# plot the scores\n",
    "fig = plt.figure()\n",
    "ax = fig.add_subplot(111)\n",
    "plt.plot(np.arange(len(scores)), scores,'b')\n",
    "#rolling_mean = pd.Series(scores).rolling(100).mean()\n",
    "#plt.plot(np.arange(len(scores)), rolling_mean,'r')\n",
    "plt.ylabel('Score')\n",
    "plt.xlabel('Episode #')\n",
    "plt.show\n"
   ]
  },
  {
   "cell_type": "markdown",
   "metadata": {},
   "source": [
    "And now, let's observer the results of the last one!"
   ]
  },
  {
   "cell_type": "code",
   "execution_count": 10,
   "metadata": {},
   "outputs": [],
   "source": [
    "from ddpg_multi_agent import Agent\n",
    "def testFunction():\n",
    "    \n",
    "    agent = Agent(state_size=33, action_size=4, seed=0)\n",
    "    agent.actor_local.load_state_dict(torch.load('weights_over_30/checkpoint_actor_local.pth'))\n",
    "    agent.actor_target.load_state_dict(torch.load('weights_over_30/checkpoint_actor_target.pth'))\n",
    "    agent.critic_local.load_state_dict(torch.load('weights_over_30/checkpoint_critic_local.pth'))\n",
    "    agent.critic_target.load_state_dict(torch.load('weights_over_30/checkpoint_critic_target.pth'))   \n",
    "    print(\"Loading weights!\")\n",
    "\n",
    "    env_info = env.reset(train_mode=False)[brain_name]  # reset the environment\n",
    "    states = env_info.vector_observations\n",
    "    scores = np.zeros(num_agents)\n",
    "    while True:\n",
    "        actions =[]\n",
    "        for an_agent in range(num_agents):\n",
    "            agent.reset()\n",
    "            actions.append(agent.act(states[an_agent]))\n",
    "        \n",
    "        env_info = env.step(actions)[brain_name]\n",
    "        next_states = env_info.vector_observations  # get the next state\n",
    "        rewards = env_info.rewards  # get the reward\n",
    "        dones = env_info.local_done  # see if episode has finished\n",
    "        for an_agent in range(num_agents):\n",
    "                agent.step(states[an_agent], actions[an_agent], rewards[an_agent], next_states[an_agent], dones[an_agent])\n",
    "        states = next_states\n",
    "        scores  +=  rewards\n",
    "        if np.any(dones):\n",
    "                break\n",
    "\n",
    "    print(\"Score: {}\".format(scores.mean()))"
   ]
  },
  {
   "cell_type": "code",
   "execution_count": null,
   "metadata": {},
   "outputs": [],
   "source": [
    "testFunction()"
   ]
  },
  {
   "cell_type": "code",
   "execution_count": 12,
   "metadata": {},
   "outputs": [],
   "source": [
    "env.close()"
   ]
  },
  {
   "cell_type": "code",
   "execution_count": null,
   "metadata": {},
   "outputs": [],
   "source": []
  }
 ],
 "metadata": {
  "kernelspec": {
   "display_name": "Python 3",
   "language": "python",
   "name": "python3"
  },
  "language_info": {
   "codemirror_mode": {
    "name": "ipython",
    "version": 3
   },
   "file_extension": ".py",
   "mimetype": "text/x-python",
   "name": "python",
   "nbconvert_exporter": "python",
   "pygments_lexer": "ipython3",
   "version": "3.6.12"
  }
 },
 "nbformat": 4,
 "nbformat_minor": 2
}
